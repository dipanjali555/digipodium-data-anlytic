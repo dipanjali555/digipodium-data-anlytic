{
 "cells": [
  {
   "cell_type": "code",
   "execution_count": 1,
   "metadata": {},
   "outputs": [],
   "source": [
    "lbs_info = {\n",
    "    'full name': \" lal bahadur shastisi collage\",\n",
    "    'short name' : 'lbs', \n",
    "    'student name':'440',\n",
    "    'culture': ' mood khrab bache'\n",
    "\n",
    "}"
   ]
  },
  {
   "cell_type": "code",
   "execution_count": 11,
   "metadata": {},
   "outputs": [],
   "source": [
    "movies = {\n",
    "    'suryavansham':{\n",
    "        'relayad on':'sony max',\n",
    "        'plot': 'rich father doesot like his illiturate son',\n",
    "        'rating':  10\n",
    "    },\n",
    "    'ghajint':{\n",
    "        'plot': 'rich person forgets everythimg after 15 min',\n",
    "        'rating': 10,\n",
    "        'streamed': 'jio cinema'\n",
    "    },\n",
    "    '3 idiots':{\n",
    "        'plot': 'learn concept',\n",
    "        'rating': 6,\n",
    "        'sreamed': ' sony liv'\n",
    "    }, \n",
    "    'karla story': {\n",
    "        'plot': 'history',\n",
    "        'rating': 7,\n",
    "        'streamed ': ' jio cinema'\n",
    "    },\n",
    "}\n",
    "    \n"
   ]
  },
  {
   "cell_type": "markdown",
   "metadata": {},
   "source": []
  },
  {
   "cell_type": "code",
   "execution_count": 14,
   "metadata": {},
   "outputs": [],
   "source": [
    "movies['ghajint'] = {\n",
    "    'streamed on': 'amazon prime',\n",
    "    'plot': '3 friend in college',\n",
    "    'rating': 10\n",
    "}"
   ]
  },
  {
   "cell_type": "code",
   "execution_count": 15,
   "metadata": {},
   "outputs": [
    {
     "data": {
      "text/plain": [
       "{'streamed on': 'amazon prime', 'plot': '3 friend in college', 'rating': 10}"
      ]
     },
     "execution_count": 15,
     "metadata": {},
     "output_type": "execute_result"
    }
   ],
   "source": [
    "# retrive\n",
    "movies['ghajint']"
   ]
  },
  {
   "cell_type": "code",
   "execution_count": 9,
   "metadata": {},
   "outputs": [
    {
     "data": {
      "text/plain": [
       "dict_items([('suryavansham', {'relayad on': 'sony max', 'plot': 'rich father doesot like his illiturate son', 'rating': 10}), ('ghajint', {'plot': 'rich person forgets everythimg after 15 min', 'rating': 10, 'streamed': 'jio cinema'}), ('3 idiots', {'streamed on': 'amazon prime', 'plot': '3 friend in college', 'rating': 10})])"
      ]
     },
     "execution_count": 9,
     "metadata": {},
     "output_type": "execute_result"
    }
   ],
   "source": [
    " # getting both key and valve\n",
    "movies.items()"
   ]
  },
  {
   "cell_type": "code",
   "execution_count": 20,
   "metadata": {},
   "outputs": [
    {
     "name": "stdout",
     "output_type": "stream",
     "text": [
      "SURYAVANSHAM\n",
      "relayad on     sony max\n",
      "plot           rich father doesot like his illiturate son\n",
      "rating         10\n",
      "\n",
      "GHAJINT\n",
      "streamed on    amazon prime\n",
      "plot           3 friend in college\n",
      "rating         10\n",
      "\n",
      "3 IDIOTS\n",
      "plot           learn concept\n",
      "rating         6\n",
      "sreamed         sony liv\n",
      "\n",
      "KARLA STORY\n",
      "plot           history\n",
      "rating         7\n",
      "streamed        jio cinema\n",
      "\n"
     ]
    }
   ],
   "source": [
    "for title,details in movies.items():\n",
    "    print(title.upper())\n",
    "    for entry, value in details.items():\n",
    "        print(f'{entry:15}{value}')\n",
    "    print()"
   ]
  },
  {
   "cell_type": "code",
   "execution_count": 22,
   "metadata": {},
   "outputs": [
    {
     "name": "stdout",
     "output_type": "stream",
     "text": [
      "{'suryavansham': {'relayad on': 'sony max', 'plot': 'rich father doesot like his illiturate son', 'rating': 10}, '3 idiots': {'plot': 'learn concept', 'rating': 6, 'sreamed': ' sony liv'}, 'karla story': {'plot': 'history', 'rating': 7, 'streamed ': ' jio cinema'}}\n"
     ]
    }
   ],
   "source": [
    "movies.pop('ghajint')\n",
    "print(movies)"
   ]
  },
  {
   "cell_type": "code",
   "execution_count": null,
   "metadata": {},
   "outputs": [],
   "source": []
  }
 ],
 "metadata": {
  "kernelspec": {
   "display_name": "base",
   "language": "python",
   "name": "python3"
  },
  "language_info": {
   "codemirror_mode": {
    "name": "ipython",
    "version": 3
   },
   "file_extension": ".py",
   "mimetype": "text/x-python",
   "name": "python",
   "nbconvert_exporter": "python",
   "pygments_lexer": "ipython3",
   "version": "3.10.10"
  },
  "orig_nbformat": 4
 },
 "nbformat": 4,
 "nbformat_minor": 2
}
